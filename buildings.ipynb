{
 "cells": [
  {
   "cell_type": "code",
   "execution_count": null,
   "metadata": {
    "colab": {
     "base_uri": "https://localhost:8080/"
    },
    "id": "A4mGJsOXlpOR",
    "outputId": "aa2ea4cc-31f9-46da-cb98-71aa9045b8ac"
   },
   "outputs": [],
   "source": [
    "!pip install notebook pandas geopandas shapely duckdb jupysql duckdb-engine"
   ]
  },
  {
   "cell_type": "code",
   "execution_count": null,
   "metadata": {
    "id": "D6qStpJU5NvK"
   },
   "outputs": [],
   "source": [
    "# import our toolkit\n",
    "import pandas as pd\n",
    "import geopandas as gpd\n",
    "from shapely import wkt\n",
    "import duckdb "
   ]
  },
  {
   "cell_type": "code",
   "execution_count": null,
   "metadata": {
    "id": "GwS9w_6c5P7A"
   },
   "outputs": [],
   "source": [
    "# no need to import duckdb_engine, JupySQL will auto-detect driver\n",
    "# load (or reload) jupysql Jupyter extension to create SQL cells\n",
    "%reload_ext sql"
   ]
  },
  {
   "cell_type": "code",
   "execution_count": null,
   "metadata": {
    "colab": {
     "base_uri": "https://localhost:8080/",
     "height": 34
    },
    "id": "1AICyNY15RQZ",
    "outputId": "fe9198ce-988b-4300-b2a6-3a1f2059df4d"
   },
   "outputs": [],
   "source": [
    "# DuckDB in-memory database\n",
    "%sql duckdb://"
   ]
  },
  {
   "cell_type": "code",
   "execution_count": null,
   "metadata": {
    "id": "N6nRCeB85SmT"
   },
   "outputs": [],
   "source": [
    "# Run if error\n",
    "#%sql ROLLBACK"
   ]
  },
  {
   "cell_type": "code",
   "execution_count": null,
   "metadata": {
    "colab": {
     "base_uri": "https://localhost:8080/",
     "height": 75
    },
    "id": "kVXIjyM-MPdE",
    "outputId": "b3e9390e-f456-4e3e-d424-57df135ae3e9"
   },
   "outputs": [],
   "source": [
    "%sql INSTALL spatial;\n",
    "%sql LOAD spatial;"
   ]
  },
  {
   "cell_type": "code",
   "execution_count": null,
   "metadata": {
    "colab": {
     "base_uri": "https://localhost:8080/",
     "height": 90,
     "referenced_widgets": [
      "6ac29faa92cb469ba4d3f27bca4db959",
      "704448cc2f6b44afb52c467dc9076ef1",
      "b83a823adacf4e3e954a3cc84d1365ea"
     ]
    },
    "id": "uwZbpk-l5UNM",
    "outputId": "1deb648e-cacb-49a1-d279-dd5931a2ec02"
   },
   "outputs": [],
   "source": [
    "# %%sql\n",
    "# COPY (\n",
    "#     SELECT\n",
    "#         id,\n",
    "#         level,\n",
    "#         height,\n",
    "#         names.primary AS primary_name,\n",
    "#         sources[1].dataset AS primary_source,\n",
    "#         geometry\n",
    "#     FROM read_parquet(\n",
    "#         's3://overturemaps-us-west-2/release/2025-05-21.0/theme=buildings/type=*/*',\n",
    "#         hive_partitioning=1\n",
    "#     )\n",
    "#     WHERE\n",
    "#         bbox.xmin > -121.9135\n",
    "#         AND bbox.xmax < -121.8915\n",
    "#         AND bbox.ymin > 37.4080\n",
    "#         AND bbox.ymax < 37.4236\n",
    "# ) TO 'buildings.geojson' WITH (FORMAT GDAL, DRIVER 'GeoJSON');\n",
    "%%sql\n",
    "-- Export San Jose buildings\n",
    "COPY (\n",
    "    SELECT\n",
    "        id,\n",
    "        level,\n",
    "        height,\n",
    "        names.primary AS primary_name,\n",
    "        sources[1].dataset AS primary_source,\n",
    "        geometry\n",
    "    FROM read_parquet(\n",
    "        's3://overturemaps-us-west-2/release/2025-05-21.0/theme=buildings/type=*/*',\n",
    "        hive_partitioning=1\n",
    "    )\n",
    "    WHERE\n",
    "        bbox.xmin > -122.10\n",
    "        AND bbox.xmax < -121.60\n",
    "        AND bbox.ymin > 37.10\n",
    "        AND bbox.ymax < 37.45\n",
    ") TO 'sanjose_buildings.geojson' WITH (FORMAT GDAL, DRIVER 'GeoJSON');"
   ]
  },
  {
   "cell_type": "code",
   "execution_count": null,
   "metadata": {
    "colab": {
     "base_uri": "https://localhost:8080/",
     "height": 90,
     "referenced_widgets": [
      "658883fe23e34190b6a7de70a4bf22c2",
      "e9c4f26c07bf47cfa599497f7f0c3d62",
      "51bbbcc7046c4c4a92ab2454a4253a3d"
     ]
    },
    "id": "0AJ2YO7D7tGA",
    "outputId": "2e94f584-3cce-42cc-df69-4ce0bc6cde73"
   },
   "outputs": [],
   "source": [
    "# %%sql\n",
    "# COPY(\n",
    "#     SELECT\n",
    "#         id,\n",
    "#         names.primary AS name,\n",
    "#         CAST(addresses AS JSON) AS addresses,\n",
    "#         confidence,\n",
    "#         geometry\n",
    "#     FROM read_parquet(\n",
    "#         's3://overturemaps-us-west-2/release/2025-04-23.0/theme=places/type=place/*',\n",
    "#         filename=true,\n",
    "#         hive_partitioning=1\n",
    "#     )\n",
    "#     WHERE bbox.xmin BETWEEN -121.91 AND -121.87\n",
    "#       AND bbox.ymin BETWEEN 37.41 AND 37.42\n",
    "# ) TO 'pois.geojson' WITH (FORMAT GDAL, DRIVER 'GeoJSON');\n",
    "%%sql\n",
    "-- Export San Jose POIs\n",
    "COPY(\n",
    "    SELECT\n",
    "        id,\n",
    "        names.primary AS name,\n",
    "        CAST(addresses AS JSON) AS addresses,\n",
    "        confidence,\n",
    "        geometry\n",
    "    FROM read_parquet(\n",
    "        's3://overturemaps-us-west-2/release/2025-04-23.0/theme=places/type=place/*',\n",
    "        filename=true,\n",
    "        hive_partitioning=1\n",
    "    )\n",
    "    WHERE\n",
    "        bbox.xmin BETWEEN -122.10 AND -121.60\n",
    "        AND bbox.ymin BETWEEN 37.10 AND 37.45\n",
    ") TO 'sanjose_pois.geojson' WITH (FORMAT GDAL, DRIVER 'GeoJSON');"
   ]
  },
  {
   "cell_type": "code",
   "execution_count": null,
   "metadata": {
    "id": "rzfb3fEn9b19"
   },
   "outputs": [],
   "source": [
    "# Load and project to meters\n",
    "pois = gpd.read_file(\"sanjose_pois.geojson\").to_crs(epsg=32610)\n",
    "buildings = gpd.read_file(\"sanjose_buildings.geojson\").to_crs(epsg=32610)"
   ]
  },
  {
   "cell_type": "code",
   "execution_count": null,
   "metadata": {
    "colab": {
     "base_uri": "https://localhost:8080/"
    },
    "id": "D4jxHXIf9hG8",
    "outputId": "a7c03e24-29e7-4596-8147-9e8d610890d7"
   },
   "outputs": [],
   "source": [
    "# Perform spatial join and keep track of which POIs had matches\n",
    "within = gpd.sjoin(pois, buildings, how=\"left\", predicate=\"within\").reset_index()\n",
    "\n",
    "# If index_right is not null, the POI was inside a building\n",
    "poi_inside_flags = within.groupby(\"index\")[\"index_right\"].apply(lambda x: x.notna().any())\n",
    "\n",
    "# Reindex to pois and assign flag\n",
    "pois[\"inside_building\"] = pois.index.to_series().map(poi_inside_flags).fillna(False)\n",
    "\n",
    "outside_pois = pois[~pois[\"inside_building\"]].copy()\n",
    "buffered = outside_pois.copy()\n",
    "buffered[\"geometry\"] = buffered.geometry.buffer(50)\n",
    "candidates = gpd.sjoin(buildings, buffered, how=\"inner\", predicate=\"intersects\")\n",
    "print(f\"{len(candidates)} candidates\")"
   ]
  },
  {
   "cell_type": "code",
   "execution_count": null,
   "metadata": {
    "colab": {
     "base_uri": "https://localhost:8080/"
    },
    "id": "p8ZkhBUePK_w",
    "outputId": "92e2a2db-f8ef-4bd8-8db4-aff746a92303"
   },
   "outputs": [],
   "source": [
    "grouped = candidates.groupby(\"index_right\").agg({\n",
    "    \"id_left\": list,\n",
    "    \"primary_name\": list,\n",
    "    \"height\": list\n",
    "}).reset_index()\n",
    "\n",
    "# Rename for readability\n",
    "grouped = grouped.rename(columns={\"id_left\": \"building_ids\"})\n",
    "for _, row in grouped.iterrows():\n",
    "    poi_index = row[\"index_right\"]\n",
    "    poi_name = pois.loc[poi_index, \"name\"] if \"name\" in pois.columns else f\"POI #{poi_index}\"\n",
    "\n",
    "    print(f\"\\nPOI {poi_index} ({poi_name}) is near the following buildings:\")\n",
    "    for b_id, b_name, b_height in zip(row[\"building_ids\"], row[\"primary_name\"], row[\"height\"]):\n",
    "        name_str = f\"'{b_name}'\" if pd.notna(b_name) else \"(no name)\"\n",
    "        print(f\"  - ID: {b_id}, Name: {name_str}, Height: {b_height}\")"
   ]
  },
  {
   "cell_type": "code",
   "execution_count": null,
   "metadata": {
    "id": "qnMAR_hNznFc"
   },
   "outputs": [],
   "source": [
    "from shapely.strtree import STRtree\n",
    "\n",
    "# --- Precompute for optimization ---\n",
    "# Map of lowercased building names to matching building rows\n",
    "name_to_buildings = {}\n",
    "for idx, row in buildings.iterrows():\n",
    "    name = str(row[\"primary_name\"]).strip().lower()\n",
    "    if name:\n",
    "        name_to_buildings.setdefault(name, []).append(row)\n",
    "\n",
    "# STRtree for fast nearest-neighbor spatial lookup\n",
    "building_centroids = buildings.geometry.centroid\n",
    "str_tree = STRtree(building_centroids)\n",
    "centroid_to_building = dict(zip(building_centroids, buildings.index))"
   ]
  },
  {
   "cell_type": "code",
   "execution_count": null,
   "metadata": {
    "id": "SxA4RLhQ9nAR"
   },
   "outputs": [],
   "source": [
    "from shapely.geometry.base import BaseGeometry\n",
    "def find_best_building_optimized(poi_row):\n",
    "    poi_geom = poi_row.geometry\n",
    "    poi_name = str(poi_row[\"name\"]).strip().lower()\n",
    "\n",
    "    # 1. Name match\n",
    "    if poi_name in name_to_buildings:\n",
    "        matches = gpd.GeoDataFrame(name_to_buildings[poi_name])\n",
    "        matches[\"dist\"] = matches.geometry.centroid.distance(poi_geom)\n",
    "        return matches.sort_values(\"dist\").iloc[0].geometry.centroid\n",
    "\n",
    "    # 2. Buffered intersected candidate\n",
    "    match_candidates = candidates[candidates.index_right == poi_row.name]\n",
    "    if not match_candidates.empty:\n",
    "        match_candidates = match_candidates.copy()\n",
    "        match_candidates[\"dist\"] = match_candidates.geometry.centroid.distance(poi_geom)\n",
    "        return match_candidates.sort_values(\"dist\").iloc[0].geometry.centroid\n",
    "\n",
    "    # 3. Nearest building within 200m\n",
    "    nearby_centroids = str_tree.query(poi_geom.buffer(200))\n",
    "\n",
    "    # Filter valid geometries\n",
    "    valid_centroids = [c for c in nearby_centroids if isinstance(c, BaseGeometry)]\n",
    "\n",
    "    if len(valid_centroids) > 0:\n",
    "        # Get the nearest centroid\n",
    "        nearest = min(valid_centroids, key=lambda c: poi_geom.distance(c))\n",
    "\n",
    "        # Get the matching building geometry\n",
    "        best_building = buildings.loc[centroid_to_building[nearest]]\n",
    "        return best_building.geometry.centroid\n",
    "\n",
    "    # 4. Fallback\n",
    "    return poi_geom"
   ]
  },
  {
   "cell_type": "code",
   "execution_count": null,
   "metadata": {
    "colab": {
     "base_uri": "https://localhost:8080/"
    },
    "id": "ND2h7oyG9o6M",
    "outputId": "f1ba1079-dd5c-4831-fb92-3fe367fc9177"
   },
   "outputs": [],
   "source": [
    "# outside_pois[\"new_geometry\"] = outside_pois.apply(find_best_building, axis=1)\n",
    "outside_pois[\"new_geometry\"] = outside_pois.apply(find_best_building_optimized, axis=1)\n",
    "inside_pois = pois[pois[\"inside_building\"]].copy()\n",
    "inside_pois[\"new_geometry\"] = inside_pois.geometry  # keep original\n",
    "final = pd.concat([inside_pois, outside_pois], ignore_index=True)\n",
    "final = final.set_geometry(\"new_geometry\")\n",
    "final = final.set_crs(epsg=32610).to_crs(epsg=4326)\n",
    "final = final.drop(columns=[\"geometry\", \"inside_building\"])\n",
    "final = final.rename(columns={\"new_geometry\": \"geometry\"})\n",
    "final = final.set_geometry(\"geometry\")"
   ]
  },
  {
   "cell_type": "code",
   "execution_count": null,
   "metadata": {
    "id": "br39c8hy-GB8"
   },
   "outputs": [],
   "source": [
    "final.to_file(\"snapped_only_outside_pois.geojson\", driver=\"GeoJSON\")"
   ]
  },
  {
   "cell_type": "code",
   "execution_count": null,
   "metadata": {
    "colab": {
     "base_uri": "https://localhost:8080/"
    },
    "id": "Pcw86MKFhUWQ",
    "outputId": "6d25fbc7-22de-4640-bc24-507c94fc29ee"
   },
   "outputs": [],
   "source": [
    "# Save in Google Drive\n",
    "from google.colab import drive\n",
    "drive.mount('/content/drive')\n",
    "output_path = \"/content/drive/MyDrive/snapped_only_outside_pois.geojson\"\n",
    "final.to_file(output_path, driver=\"GeoJSON\")"
   ]
  }
 ],
 "metadata": {
  "accelerator": "TPU",
  "colab": {
   "gpuType": "V28",
   "provenance": []
  },
  "kernelspec": {
   "display_name": "Python 3",
   "name": "python3"
  },
  "language_info": {
   "name": "python"
  }
 },
 "nbformat": 4,
 "nbformat_minor": 0
}
